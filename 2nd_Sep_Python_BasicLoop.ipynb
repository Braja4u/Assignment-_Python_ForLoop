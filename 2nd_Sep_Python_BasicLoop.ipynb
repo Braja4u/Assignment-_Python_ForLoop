{
 "cells": [
  {
   "cell_type": "code",
   "execution_count": 17,
   "id": "361d5969-2f7b-4a35-a376-1cb9139e61ad",
   "metadata": {},
   "outputs": [
    {
     "name": "stdout",
     "output_type": "stream",
     "text": [
      "1\n",
      "2\n",
      "3\n",
      "4\n",
      "5\n",
      "6\n",
      "7\n",
      "8\n",
      "9\n",
      "10\n"
     ]
    }
   ],
   "source": [
    "# Basic Level: >>>>>>>>>>>>>>>>>>>>>>>>>>>>>>>>>>>>>>>>>>>>>>>>>>>>>>>>>>>>>>>>>>>>>>>>>>>>>>>>>>>>>>>>>>>>>>>>>>>>>>>>>>>>\n",
    "\n",
    "#1. Write a Python program to print the numbers from 1 to 10 using a `for` loop.\n",
    "\n",
    "for i in range(1,11):\n",
    "    print(i)"
   ]
  },
  {
   "cell_type": "code",
   "execution_count": 19,
   "id": "d7991671-6ac3-4339-9849-e2fe1077c7f7",
   "metadata": {},
   "outputs": [
    {
     "name": "stdout",
     "output_type": "stream",
     "text": [
      "Sum of all elements in given list:  35\n"
     ]
    }
   ],
   "source": [
    "#2. Create a program that calculates the sum of all numbers in a list using a `for` loop.\n",
    "\n",
    "total = 0\n",
    "\n",
    "# creating a list\n",
    "list1 = [1, 15, 4, 10, 5]\n",
    "\n",
    "# Iterate each element in list\n",
    "# and add them in variable total\n",
    "for ele in range(0, len(list1)):\n",
    "\ttotal = total + list1[ele]\n",
    "\n",
    "# printing total value\n",
    "print(\"Sum of all elements in given list: \", total)"
   ]
  },
  {
   "cell_type": "code",
   "execution_count": 21,
   "id": "59823612-0cd2-4bc2-8bdf-5e46e6a28ab9",
   "metadata": {},
   "outputs": [
    {
     "name": "stdout",
     "output_type": "stream",
     "text": [
      "The original string is : PWSkills\n",
      "The reversed string(using loops) is : sllikSWP\n"
     ]
    }
   ],
   "source": [
    "#3. Write a program to print the characters of a string in reverse order using a `for` loop.\n",
    "\n",
    "def reverse(s):\n",
    "\tstr = \"\"\n",
    "\tfor i in s:\n",
    "\t\tstr = i + str\n",
    "\treturn str\n",
    "\n",
    "s = \"PWSkills\"\n",
    "\n",
    "print(\"The original string is : \", end=\"\")\n",
    "print(s)\n",
    "\n",
    "print(\"The reversed string(using loops) is : \", end=\"\")\n",
    "print(reverse(s))"
   ]
  },
  {
   "cell_type": "code",
   "execution_count": 22,
   "id": "71186959-350b-432d-8a8a-77a6dca0855a",
   "metadata": {},
   "outputs": [
    {
     "name": "stdin",
     "output_type": "stream",
     "text": [
      "Enter a number:  5\n"
     ]
    },
    {
     "name": "stdout",
     "output_type": "stream",
     "text": [
      "Factorial of the given number is:  120\n"
     ]
    }
   ],
   "source": [
    "#4. Develop a program that finds the factorial of a given number using a `for` loop.\n",
    "\n",
    "n = int (input (\"Enter a number: \"))\n",
    "\n",
    "factorial = 1\n",
    "\n",
    "if n >= 1:\n",
    "    for i in range (1, n+1):\n",
    "        factorial=factorial *i\n",
    "        \n",
    "print(\"Factorial of the given number is: \", factorial)"
   ]
  },
  {
   "cell_type": "code",
   "execution_count": 25,
   "id": "25129e9d-93ba-4511-9631-75a241cbaf06",
   "metadata": {},
   "outputs": [
    {
     "name": "stdin",
     "output_type": "stream",
     "text": [
      "Multiplication table of:  2\n"
     ]
    },
    {
     "name": "stdout",
     "output_type": "stream",
     "text": [
      "The Multiplication Table of:  2\n",
      "2 x 1 = 2\n",
      "2 x 2 = 4\n",
      "2 x 3 = 6\n",
      "2 x 4 = 8\n",
      "2 x 5 = 10\n",
      "2 x 6 = 12\n",
      "2 x 7 = 14\n",
      "2 x 8 = 16\n",
      "2 x 9 = 18\n",
      "2 x 10 = 20\n"
     ]
    }
   ],
   "source": [
    "#5. Create a program to print the multiplication table of a given number using a `for` loop.\n",
    "\n",
    "number = int(input (\"Multiplication table of: \"))  \n",
    "\n",
    "# We are using \"for loop\" to iterate the multiplication 10 times       \n",
    "\n",
    "for count in range(1, 11):      \n",
    "    print (number, 'x', count, '=', number * count)  \n"
   ]
  },
  {
   "cell_type": "code",
   "execution_count": 29,
   "id": "1015e5b3-c859-448c-80b9-8d681a4e9340",
   "metadata": {},
   "outputs": [
    {
     "name": "stdout",
     "output_type": "stream",
     "text": [
      "Even numbers in the list:  2\n",
      "Odd numbers in the list:  5\n"
     ]
    }
   ],
   "source": [
    "#6. Write a program that counts the number of even and odd numbers in a list using a `for` loop.\n",
    "\n",
    "# list of numbers\n",
    "list1 = [9, 21, 4, 45, 66, 93, 111]\n",
    "\n",
    "even_count, odd_count = 0, 0\n",
    "\n",
    "# iterating each number in list\n",
    "for num in list1:\n",
    "\n",
    "\t# checking condition\n",
    "\tif num % 2 == 0:\n",
    "\t\teven_count += 1\n",
    "\n",
    "\telse:\n",
    "\t\todd_count += 1\n",
    "\n",
    "print(\"Even numbers in the list: \", even_count)\n",
    "print(\"Odd numbers in the list: \", odd_count)\n"
   ]
  },
  {
   "cell_type": "code",
   "execution_count": 36,
   "id": "282af3bf-8e73-419c-9721-883dd553d4a7",
   "metadata": {},
   "outputs": [
    {
     "name": "stdout",
     "output_type": "stream",
     "text": [
      "Square of integers from 1 to 5:\n",
      "[1, 4, 9, 16]\n"
     ]
    }
   ],
   "source": [
    "#7. Develop a program that prints the squares of numbers from 1 to 5 using a `for` loop.\n",
    "\n",
    "l = []\n",
    "\n",
    "for i in range(1, 5):\n",
    "    l.append(i * i)\n",
    "\n",
    "print(\"Square of integers from 1 to 5:\")\n",
    "print(l)"
   ]
  },
  {
   "cell_type": "code",
   "execution_count": 43,
   "id": "64ea1897-ad11-420a-baeb-b7b3726daec5",
   "metadata": {},
   "outputs": [
    {
     "name": "stdin",
     "output_type": "stream",
     "text": [
      "Enter a string: hello\n"
     ]
    },
    {
     "name": "stdout",
     "output_type": "stream",
     "text": [
      "Length of a string: 5\n"
     ]
    }
   ],
   "source": [
    "#8. Create a program to find the length of a string without using the `len()` function.\n",
    "\n",
    "str1 = input(\"Enter a string:\")\n",
    "\n",
    "count = 0\n",
    "\n",
    "for i in str1:\n",
    " \n",
    "    count+=1\n",
    "    \n",
    "print(\"Length of a string:\",count)"
   ]
  },
  {
   "cell_type": "code",
   "execution_count": 2,
   "id": "349a67ae-c9bc-47fd-bce9-1ef4362c0387",
   "metadata": {},
   "outputs": [
    {
     "name": "stdout",
     "output_type": "stream",
     "text": [
      "Average of the list = 33.38\n"
     ]
    }
   ],
   "source": [
    "#9. Write a program that calculates the average of a list of numbers using a `for` loop.\n",
    "\n",
    "def Average(lst):\n",
    "\tsum_of_list = 0\n",
    "\tfor i in range(len(lst)):\n",
    "\t\tsum_of_list += lst[i]\n",
    "\taverage = sum_of_list/len(lst)\n",
    "\treturn average\n",
    "\n",
    "\n",
    "# Driver Code\n",
    "lst = [5, 9, 35, 41, 35, 21, 62, 59]\n",
    "average = Average(lst)\n",
    "print(\"Average of the list =\", round(average,2))\n"
   ]
  },
  {
   "cell_type": "code",
   "execution_count": 4,
   "id": "0ebd271b-6549-448b-acf2-31280dcc48ce",
   "metadata": {},
   "outputs": [
    {
     "name": "stdin",
     "output_type": "stream",
     "text": [
      "Enter the number of terms: 8\n"
     ]
    },
    {
     "name": "stdout",
     "output_type": "stream",
     "text": [
      "0 1 1 2 3 5 8 13 "
     ]
    }
   ],
   "source": [
    "#10. Develop a program that prints the first `n` Fibonacci numbers using a `for` loop.\n",
    "\n",
    "n=int(input(\"Enter the number of terms:\"))\n",
    "a=0\n",
    "b=1\n",
    "if n<=0:\n",
    "    print(\"The Output of your input is\",a)\n",
    "else:\n",
    "    print(a,b,end=\" \")\n",
    "    for x in range(2,n):\n",
    "        c=a+b\n",
    "        print(c,end=\" \")\n",
    "        a=b\n",
    "        b=c"
   ]
  },
  {
   "cell_type": "code",
   "execution_count": 9,
   "id": "ecd74a95-3345-44a4-acfe-48dd19c99da6",
   "metadata": {},
   "outputs": [
    {
     "name": "stdout",
     "output_type": "stream",
     "text": [
      "Unique List: [1, 2, 7, 4, 5, 6, 8]\n",
      "Duplicate List: [1, 2, 7, 5]\n"
     ]
    }
   ],
   "source": [
    "#Intermediate Level: >>>>>>>>>>>>>>>>>>>>>>>>>>>>>>>>>>>>>>>>>>>>>>>>>>>>>>>>>>>>>>>>>>>>>>>>>>>>>>>>>>>>>>>>>>>>>>\n",
    "    \n",
    "#11. Write a program to check if a given list contains any duplicates using a `for` loop.\n",
    "\n",
    "# a list of integers\n",
    "lis = [1, 2, 1, 2, 7, 4, 5, 1, 1, 7, 5, 6, 7, 8, 1, 2]\n",
    "\n",
    "uniqueList = []\n",
    "duplicateList = []\n",
    "\n",
    "for i in lis:\n",
    "\tif i not in uniqueList:\n",
    "\t\tuniqueList.append(i)\n",
    "\telif i not in duplicateList:\n",
    "\t\tduplicateList.append(i)\n",
    "\n",
    "print(\"Unique List:\", uniqueList)\n",
    "print(\"Duplicate List:\", duplicateList)"
   ]
  },
  {
   "cell_type": "code",
   "execution_count": 14,
   "id": "490e4dea-5a35-49df-b086-09877e34c1ef",
   "metadata": {},
   "outputs": [
    {
     "name": "stdin",
     "output_type": "stream",
     "text": [
      "Lowest Range Value: 2\n",
      "Upper Range Value: 12\n"
     ]
    },
    {
     "name": "stdout",
     "output_type": "stream",
     "text": [
      "The Prime Numbers in the range are: \n",
      "2\n",
      "3\n",
      "5\n",
      "7\n",
      "11\n"
     ]
    }
   ],
   "source": [
    "#12. Create a program that prints the prime numbers in a given range using a `for` loop.\n",
    "\n",
    "# First, we will take the input:  \n",
    "lower_value = int(input (\"Lowest Range Value:\"))  \n",
    "upper_value = int(input (\"Upper Range Value:\"))  \n",
    "  \n",
    "print (\"The Prime Numbers in the range are: \")  \n",
    "\n",
    "for number in range (lower_value, upper_value + 1):  \n",
    "    if number > 1:  \n",
    "        for i in range (2, number):  \n",
    "            if (number % i) == 0:  \n",
    "                break  \n",
    "        else:  \n",
    "            print (number)  "
   ]
  },
  {
   "cell_type": "code",
   "execution_count": 16,
   "id": "7ef039e2-eee0-43dd-8d79-73a613d39108",
   "metadata": {},
   "outputs": [
    {
     "name": "stdout",
     "output_type": "stream",
     "text": [
      "No. of vowels : 5\n"
     ]
    }
   ],
   "source": [
    "#13. Develop a program that counts the number of vowels in a string using a `for` loop.\n",
    "\n",
    "# Function to count vowel\n",
    "def vowel_count(str):\n",
    "\t\n",
    "\t# Initializing count variable to 0\n",
    "\tcount = 0\n",
    "\t\n",
    "\t# Creating a set of vowels\n",
    "\tvowel = set(\"aeiouAEIOU\")\n",
    "\t\n",
    "\t# Loop to traverse the alphabet\n",
    "\t# in the given string\n",
    "\tfor alphabet in str:\n",
    "\t\n",
    "\t\t# If alphabet is present\n",
    "\t\t# in set vowel\n",
    "\t\tif alphabet in vowel:\n",
    "\t\t\tcount = count + 1\n",
    "\t\n",
    "\tprint(\"No. of vowels :\", count)\n",
    "\t\n",
    "# Driver code\n",
    "str = \"BrajaGOPALdas\"\n",
    "\n",
    "# Function Call\n",
    "vowel_count(str)\n"
   ]
  },
  {
   "cell_type": "code",
   "execution_count": 20,
   "id": "3cb8a028-7151-411f-9f19-849b8c8bedfb",
   "metadata": {},
   "outputs": [
    {
     "name": "stdout",
     "output_type": "stream",
     "text": [
      "[1, 0, 0, 0]\n",
      "[1, 0, 0, 0]\n",
      "[1, 0, 0, 0]\n",
      "[1, 0, 0, 0]\n",
      "[1, 0, 0, 0]\n"
     ]
    }
   ],
   "source": [
    "#14. Write a program to find the maximum element in a 2D list using a nested `for` loop.\n",
    "\n",
    "rows, cols = (5,4)\n",
    "\n",
    "arr = [[0]*cols]*rows\n",
    "\n",
    "# lets change the first element of the\n",
    "# first row to 1 and print the array\n",
    "\n",
    "arr[0][0] = 1\n",
    "\n",
    "for row in arr:\n",
    "\tprint(row)"
   ]
  },
  {
   "cell_type": "code",
   "execution_count": 24,
   "id": "87eb1937-824a-4c0c-8ba9-38bdca59d717",
   "metadata": {},
   "outputs": [
    {
     "name": "stdout",
     "output_type": "stream",
     "text": [
      "Original list : [1, 3, 4, 3, 6, 5, 1, 2]\n",
      "Remove operation : [3, 4, 3, 6, 5, 2]\n"
     ]
    }
   ],
   "source": [
    "#15. Create a program that removes all occurrences of a specific element from a list using a `for` loop.\n",
    "\n",
    "val = [1, 3, 4, 3, 6, 5, 1, 2]\n",
    "\n",
    "a = 1\n",
    "print (\"Original list :\" ,val)\n",
    "\n",
    "c = val.count(a)\n",
    "\n",
    "for i in range(c):\n",
    "    val.remove(a)\n",
    "    \n",
    "print (\"Remove operation :\" , val)"
   ]
  },
  {
   "cell_type": "code",
   "execution_count": 27,
   "id": "98131c21-920c-460c-b4f9-a9e96e99d3fb",
   "metadata": {},
   "outputs": [
    {
     "name": "stdout",
     "output_type": "stream",
     "text": [
      " 1  2  3  4  5 \n",
      "\n",
      " 2  4  6  8 10 \n",
      "\n",
      " 3  6  9 12 15 \n",
      "\n",
      " 4  8 12 16 20 \n",
      "\n",
      " 5 10 15 20 25 \n",
      "\n",
      " 6 12 18 24 30 \n",
      "\n",
      " 7 14 21 28 35 \n",
      "\n",
      " 8 16 24 32 40 \n",
      "\n",
      " 9 18 27 36 45 \n",
      "\n",
      "10 20 30 40 50 \n",
      "\n"
     ]
    }
   ],
   "source": [
    "#16. Develop a program that generates a multiplication table for numbers from 1 to 5 using a nested `for` loop.\n",
    "\n",
    "rows=10 # Multiplication table up to 10 \n",
    "columns=5# column values \n",
    "\n",
    "for i in range(1,rows+1):\n",
    "    for j in range(1,columns+1):# inner for loop\n",
    "        c=i*j\n",
    "        print(\"{:2d} \".format(c),end='')\n",
    "    print(\"\\n\")  # line break"
   ]
  },
  {
   "cell_type": "code",
   "execution_count": 38,
   "id": "19f86637-01b0-4bc0-95e0-d391e7e586df",
   "metadata": {},
   "outputs": [
    {
     "name": "stdout",
     "output_type": "stream",
     "text": [
      "4.444444444444445\n"
     ]
    }
   ],
   "source": [
    "#17. Write a program that converts a list of Fahrenheit temperatures to Celsius using a `for` loop.\n",
    "\n",
    "# function to convert\n",
    "# Fahrenheit to Celsius\n",
    "def Conversion(n):\n",
    "    return(n - 32.0) * 5.0 / 9.0\n",
    " \n",
    "# driver code\n",
    "n = 40\n",
    "x = Conversion(n)\n",
    "print (x)"
   ]
  },
  {
   "cell_type": "code",
   "execution_count": 8,
   "id": "4a673501-177f-43c2-97f4-1e946d4ffc96",
   "metadata": {},
   "outputs": [
    {
     "name": "stdout",
     "output_type": "stream",
     "text": [
      "The common elements are: [2, 3, 5]\n"
     ]
    }
   ],
   "source": [
    "#18. Create a program to print the common elements from two lists using a `for` loop.\n",
    "\n",
    "a = [1, 2, 3, 4, 5]\n",
    "b = [5, 2, 6, 3, 9]\n",
    "\n",
    "result = [i for i in a if i in b]\n",
    "\n",
    "print(\"The common elements are:\", result)\n"
   ]
  },
  {
   "cell_type": "code",
   "execution_count": 1,
   "id": "f6e53313-3a6f-439c-b016-681553df0556",
   "metadata": {},
   "outputs": [
    {
     "name": "stdin",
     "output_type": "stream",
     "text": [
      "Enter row number: 5\n"
     ]
    },
    {
     "name": "stdout",
     "output_type": "stream",
     "text": [
      "*\n",
      "**\n",
      "***\n",
      "****\n",
      "*****\n"
     ]
    }
   ],
   "source": [
    "#19. Develop a program that prints the pattern of right-angled triangles using a `for` loop. Use ‘*’ fot pattern\n",
    "\n",
    "x=int(input(\"Enter row number:\"))\n",
    "\n",
    "for i in range(x):\n",
    "    for j in range(i+1):\n",
    "        print(\"*\",end='')\n",
    "    print(\"\")"
   ]
  },
  {
   "cell_type": "code",
   "execution_count": 1,
   "id": "ce534ce7-7ac8-4f2e-97b3-1243a79b38dc",
   "metadata": {},
   "outputs": [
    {
     "name": "stdout",
     "output_type": "stream",
     "text": [
      "GCD of 36 and 60 is 12\n"
     ]
    }
   ],
   "source": [
    "#20. Write a program to find the greatest common divisor (GCD) of two numbers using a `for` loop.\n",
    "\n",
    "num1 = 36\n",
    "num2 = 60\n",
    "gcd = 1\n",
    "\n",
    "for i in range(1, min(num1, num2)):\n",
    "    if num1 % i == 0 and num2 % i == 0:\n",
    "        gcd = i\n",
    "        \n",
    "print(\"GCD of\", num1, \"and\", num2, \"is\", gcd)"
   ]
  },
  {
   "cell_type": "code",
   "execution_count": 2,
   "id": "c1f3a7bb-01a7-4369-b550-a5b68cfc34b2",
   "metadata": {},
   "outputs": [
    {
     "name": "stdout",
     "output_type": "stream",
     "text": [
      "[3, 13, 17, 7]\n"
     ]
    }
   ],
   "source": [
    "#Advanced Level: >>>>>>>>>>>>>>>>>>>>>>>>>>>>>>>>>>>>>>>>>>>>>>>>>>>>>>>>>>>>>>>>>>>>>>>>>>>>>>>>>>>>>>>>>>>>>>>>>>>>>>>>>>>>\n",
    "\n",
    "#21. Create a program that calculates the sum of the digits of numbers in a list using a list comprehension.\n",
    "\n",
    "lst = [12, 67, 98, 34]\n",
    "def digit_sum(num):\n",
    "\tdigit_sum = 0\n",
    "\twhile num > 0:\n",
    "\t\tdigit_sum += num % 10\n",
    "\t\tnum //= 10\n",
    "\treturn digit_sum\n",
    "\n",
    "def sum_of_digits_list(lst):\n",
    "\treturn list(map(digit_sum, lst))\n",
    "\n",
    "print(sum_of_digits_list(lst))\n"
   ]
  },
  {
   "cell_type": "code",
   "execution_count": 3,
   "id": "ce8b8c12-fdcc-458f-8c70-ddbef0d4dacb",
   "metadata": {},
   "outputs": [
    {
     "name": "stdout",
     "output_type": "stream",
     "text": [
      "3\n",
      "3\n",
      "5\n",
      "7\n"
     ]
    }
   ],
   "source": [
    "#22. Write a program to find the prime factors of a given number using a `for` loop and list comprehension.\n",
    "\n",
    "# Python program to print prime factors\n",
    "\n",
    "import math\n",
    "\n",
    "def primeFactors(n):\n",
    "\t\n",
    "\t# Print the number of two's that divide n\n",
    "\twhile n % 2 == 0:\n",
    "\t\tprint(2)\n",
    "\t\tn = n // 2\n",
    "\t\t\n",
    "\t# n must be odd at this point\n",
    "\t# so a skip of 2 ( i = i + 2) can be used\n",
    "\tfor i in range(3,int(math.sqrt(n))+1,2):\n",
    "\t\t\n",
    "\t\t# while i divides n , print i ad divide n\n",
    "\t\twhile n % i== 0:\n",
    "\t\t\tprint(i)\n",
    "\t\t\tn = n // i\n",
    "\t\t\t\n",
    "\t# Condition if n is a prime\n",
    "\t# number greater than 2\n",
    "\tif n > 2:\n",
    "\t\tprint(n)\n",
    "\t\t\n",
    "# Driver Program to test above function\n",
    "\n",
    "n = 315\n",
    "primeFactors(n)\n"
   ]
  },
  {
   "cell_type": "code",
   "execution_count": 29,
   "id": "24c84b8c-0a8c-4005-86f3-55485c09ee7f",
   "metadata": {},
   "outputs": [
    {
     "name": "stdout",
     "output_type": "stream",
     "text": [
      "the unique values from 1st list is\n",
      "40\n",
      "10\n",
      "20\n",
      "30\n",
      "\n",
      "the unique values from 2nd list is\n",
      "1\n",
      "2\n",
      "3\n",
      "4\n",
      "5\n"
     ]
    }
   ],
   "source": [
    "#23. Develop a program that extracts unique elements from a list and stores them in a new list using a list comprehension.\n",
    "\n",
    "def unique(list1):\n",
    "\n",
    "\t# insert the list to the set\n",
    "\tlist_set = set(list1)\n",
    "\t# convert the set to the list\n",
    "\tunique_list = (list(list_set))\n",
    "    \n",
    "\tfor x in unique_list:\n",
    "\t\tprint (x)\n",
    "\n",
    "\n",
    "# driver code\n",
    "list1 = [10, 20, 10, 30, 40, 40]\n",
    "print(\"the unique values from 1st list is\")\n",
    "unique(list1)\n",
    "\n",
    "\n",
    "list2 = [1, 2, 1, 1, 3, 4, 3, 3, 5]\n",
    "print(\"\\nthe unique values from 2nd list is\")\n",
    "unique(list2)\n"
   ]
  },
  {
   "cell_type": "code",
   "execution_count": 30,
   "id": "46f50737-3c77-431e-8ede-65e9e82cdecc",
   "metadata": {},
   "outputs": [
    {
     "name": "stdout",
     "output_type": "stream",
     "text": [
      "11 22 33 44 55 66 77 88 99 1 2 3 4 5 6 7 8 9 101 "
     ]
    }
   ],
   "source": [
    "#24. Create a program that generates a list of all palindromic numbers up to a specified limit using a list comprehension.\n",
    "\n",
    "# Generate all palindromic numbers less than n\n",
    "# A Python program to generate palindromic numbers\n",
    "# less than n.\n",
    "def createPalindrome(inp, b, isOdd):\n",
    "\tn = inp\n",
    "\tpalin = inp\n",
    "\n",
    "\t# checks if number of digits is odd or even\n",
    "\t# if odd then neglect the last digit of input in\n",
    "\t# finding reverse as in case of odd number of\n",
    "\t# digits middle element occur once\n",
    "\tif (isOdd):\n",
    "\t\tn = n // b\n",
    "\n",
    "\t# Creates palindrome by just appending reverse\n",
    "\t# of number to itself\n",
    "\twhile (n > 0):\n",
    "\t\tpalin = palin * b + (n % b)\n",
    "\t\tn = n // b\n",
    "\treturn palin\n",
    "\n",
    "# Function to print decimal palindromic number\n",
    "def generatePalindromes(n):\n",
    "\n",
    "\t# Run two times for odd and even length palindromes\n",
    "\tfor j in range(2):\n",
    "\t\t# Creates palindrome numbers with first half as i.\n",
    "\t\t# Value of j decided whether we need an odd length\n",
    "\t\t# of even length palindrome.\n",
    "\t\ti = 1\n",
    "\t\twhile (createPalindrome(i, 10, j % 2) < n):\n",
    "\t\t\tprint (createPalindrome(i, 10, j % 2),end=\" \")\n",
    "\t\t\ti = i + 1\n",
    "\n",
    "# Driver Program to test above function\n",
    "n = 104\n",
    "generatePalindromes(n)\n"
   ]
  },
  {
   "cell_type": "code",
   "execution_count": 33,
   "id": "8b1ce11a-f4cf-48ef-9d31-d509172a7c50",
   "metadata": {},
   "outputs": [
    {
     "name": "stdout",
     "output_type": "stream",
     "text": [
      "Result:  [1, 2, 3, 4, 5, 6, 7, 8, 9, 10]\n"
     ]
    }
   ],
   "source": [
    "#25. Write a program to flatten a nested list using list comprehension.\n",
    "\n",
    "my_list25 = [[1], [2, 3], [4, 5, 6], [7,8,9,10]]\n",
    "\n",
    "flat_list = [num for sublist in my_list25 for num in sublist]\n",
    "print(\"Result: \",flat_list)"
   ]
  },
  {
   "cell_type": "code",
   "execution_count": 38,
   "id": "b007bb0a-60d1-46e2-86c6-fb63c5e22c39",
   "metadata": {},
   "outputs": [
    {
     "name": "stdout",
     "output_type": "stream",
     "text": [
      "Even numbers available in the list:  4\n",
      "Odd numbers available in the list:  6\n"
     ]
    }
   ],
   "source": [
    "#26. Develop a program that computes the sum of even and odd numbers in a list separately using list comprehension.\n",
    "\n",
    "list1 = [21,3,4,6,33,2,3,1,3,76]\n",
    "#copy of list elements which are odd in a new list and calculating the length on new list\n",
    "\n",
    "only_odd = [num for num in list1 if num % 2 == 1]\n",
    "odd_count = len(only_odd)\n",
    "\n",
    "print(\"Even numbers available in the list: \", len(list1) - odd_count)\n",
    "print(\"Odd numbers available in the list: \", odd_count)\n"
   ]
  },
  {
   "cell_type": "code",
   "execution_count": 54,
   "id": "ea42cf72-5774-47a4-ac1d-8f4a957abde7",
   "metadata": {},
   "outputs": [
    {
     "name": "stdout",
     "output_type": "stream",
     "text": [
      "[1, 9, 25, 49, 81]\n"
     ]
    }
   ],
   "source": [
    "#27. Create a program that generates a list of squares of odd numbers between 1 and 10 using list comprehension.\n",
    "\n",
    "# create a list with 7 integer elements\n",
    "data=range(1,11)\n",
    "\n",
    "# use list comprehension to get square\n",
    "# of odd numbers\n",
    "result = [i*i for i in data if i%2!=0]\n",
    "\n",
    "# display the result\n",
    "print(result)\n",
    "\n"
   ]
  },
  {
   "cell_type": "code",
   "execution_count": 45,
   "id": "048f4127-bb91-4e16-835d-4dc4775ca4d3",
   "metadata": {},
   "outputs": [
    {
     "name": "stdout",
     "output_type": "stream",
     "text": [
      "[1, 9, 25]\n"
     ]
    }
   ],
   "source": [
    "#28. Write a program that combines two lists into a dictionary using list comprehension.\n",
    "\n",
    "def square_odd_numbers(numbers):\n",
    "    squared_odd_numbers = [num ** 2 for num in numbers if num % 2 != 0]\n",
    "    return squared_odd_numbers\n",
    "\n",
    "numbers = [1, 2, 3, 4, 5]\n",
    "result = square_odd_numbers(numbers)\n",
    "print(result)\n"
   ]
  },
  {
   "cell_type": "code",
   "execution_count": 55,
   "id": "47103372-b286-450e-b08b-a5a2454a05a6",
   "metadata": {},
   "outputs": [
    {
     "name": "stdout",
     "output_type": "stream",
     "text": [
      "The original list is : ['all', 'love', 'and', 'get', 'educated', 'by', 'pwskills']\n",
      "The extracted words : ['all', 'and', 'educated']\n"
     ]
    }
   ],
   "source": [
    "#29. Develop a program that extracts the vowels from a string and stores them in a list using list comprehension.\n",
    "\n",
    "test_list = [\"all\", \"love\", \"and\", \"get\", \"educated\", \"by\", \"pwskills\"]\n",
    "\n",
    "# Printing original list\n",
    "print(\"The original list is : \" + str(test_list))\n",
    "\n",
    "res = [word for word in test_list if word[0] in \"aeiou\"]\n",
    "\n",
    "# Printing result\n",
    "print(\"The extracted words : \" + str(res))\n"
   ]
  },
  {
   "cell_type": "code",
   "execution_count": 63,
   "id": "51331186-ab88-423b-97be-b327db81cd60",
   "metadata": {},
   "outputs": [
    {
     "name": "stdout",
     "output_type": "stream",
     "text": [
      "The original list is : [1, 3, 4, 6, 5, 1, 5, 7, 0, 1, 5, 1, 2]\n",
      "The list after performing the remove operation is : [3, 4, 6, 5, 5, 7, 0, 5, 2]\n"
     ]
    }
   ],
   "source": [
    "#30. Create a program that removes all non-numeric characters from a list of strings using list comprehension.\n",
    "\n",
    "def remove_items(test_list, item):\n",
    "\n",
    "\t# using list comprehension to perform the task\n",
    "\tres = [i for i in test_list if i != item]\n",
    "\treturn res\n",
    "\n",
    "# driver code\n",
    "if __name__ == \"__main__\":\n",
    "\ttest_list = [1, 3, 4, 6, 5, 1, 5, 7, 0, 1, 5, 1, 2]\n",
    "\t# the item which is to be removed\n",
    "\titem = 1\n",
    "\tprint(\"The original list is : \" + str(test_list))\n",
    "\n",
    "\t# calling the function remove_items()\n",
    "\tres = remove_items(test_list, item)\n",
    "\n",
    "\t# printing result\n",
    "\tprint(\"The list after performing the remove operation is : \" + str(res))\n"
   ]
  },
  {
   "cell_type": "code",
   "execution_count": null,
   "id": "46df516e-88f4-445b-a36d-9b21a61c0ee0",
   "metadata": {},
   "outputs": [],
   "source": []
  }
 ],
 "metadata": {
  "kernelspec": {
   "display_name": "Python 3 (ipykernel)",
   "language": "python",
   "name": "python3"
  },
  "language_info": {
   "codemirror_mode": {
    "name": "ipython",
    "version": 3
   },
   "file_extension": ".py",
   "mimetype": "text/x-python",
   "name": "python",
   "nbconvert_exporter": "python",
   "pygments_lexer": "ipython3",
   "version": "3.10.8"
  }
 },
 "nbformat": 4,
 "nbformat_minor": 5
}
